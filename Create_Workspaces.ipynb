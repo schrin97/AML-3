{
 "cells": [
  {
   "cell_type": "code",
   "execution_count": 1,
   "id": "71016fe6-9041-4485-99aa-eadfdf43676a",
   "metadata": {},
   "outputs": [],
   "source": [
    "import pickle\n",
    "import sys\n",
    "#sys.path.append(r\"c:\\users\\41792\\appdata\\local\\packages\\pythonsoftwarefoundation.python.3.10_qbz5n2kfra8p0\\localcache\\local-packages\\python310\\site-packages\")\n",
    "import pandas\n",
    "import gzip\n",
    "import cv2\n",
    "import matplotlib.pyplot as plt\n",
    "from PIL import Image\n",
    "import numpy as np"
   ]
  },
  {
   "cell_type": "code",
   "execution_count": 2,
   "id": "16ab7d24-a844-4d5e-9d4b-4cb241b9a845",
   "metadata": {},
   "outputs": [],
   "source": [
    "#Import data\n",
    "with gzip.open(\"train.pkl\", \"rb\") as file:\n",
    "    X = pickle.load(file)"
   ]
  },
  {
   "cell_type": "code",
   "execution_count": 4,
   "id": "57f62574-6ab3-46e1-8cff-08484ce5225a",
   "metadata": {},
   "outputs": [],
   "source": [
    "# Plot all samples and boxes\n",
    "for sample_index in [1]:#range(len(X)):\n",
    "    sample = X[sample_index]\n",
    "    \n",
    "    #Raw image\n",
    "    video = sample['video']\n",
    "    labels = sample['label']\n",
    "    video_length = video.shape[2]\n",
    "\n",
    "    label_indices = sample['frames']\n",
    "\n",
    "    # Save the whole video as multiple images\n",
    "    for i in range(video_length):\n",
    "        # Save image\n",
    "        image = video[:,:,i]\n",
    "        img = Image.fromarray(image)\n",
    "        img.save(f\"workspace/example/images/{i:07d}.jpg\")\n",
    "\n",
    "        if i in label_indices:\n",
    "            # Save label\n",
    "            label_r = labels[:,:,i].astype(np.uint8)*255\n",
    "            label_b = np.zeros(label_r.shape).astype(np.uint8)\n",
    "            label_g = np.zeros(label_r.shape).astype(np.uint8)\n",
    "            label = cv2.merge((label_r, label_g, label_b))\n",
    "            \n",
    "\n",
    "            img = Image.fromarray(label)\n",
    "            img.save(f\"workspace/example/masks/{i:07d}.png\")\n",
    "            \n",
    "\n",
    "    # Save the raw image as a jpg image\n",
    "    #print(labeled_frame.shape)\n",
    " \n",
    "\n",
    "    #plt.imshow(labeled_frame, cmap=\"gray\")\n",
    "    #plt.imshow(label_maxed, alpha =0.5)\n",
    "    #plt.show()\n"
   ]
  },
  {
   "cell_type": "code",
   "execution_count": null,
   "id": "b89a1291-dcf2-4fc9-a317-1ed0ff2f8263",
   "metadata": {},
   "outputs": [],
   "source": []
  }
 ],
 "metadata": {
  "kernelspec": {
   "display_name": "Python 3 (ipykernel)",
   "language": "python",
   "name": "python3"
  },
  "language_info": {
   "codemirror_mode": {
    "name": "ipython",
    "version": 3
   },
   "file_extension": ".py",
   "mimetype": "text/x-python",
   "name": "python",
   "nbconvert_exporter": "python",
   "pygments_lexer": "ipython3",
   "version": "3.9.2"
  }
 },
 "nbformat": 4,
 "nbformat_minor": 5
}
