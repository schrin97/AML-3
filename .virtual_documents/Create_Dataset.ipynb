import pickle
import sys
#sys.path.append(r"c:\users\41792\appdata\local\packages\pythonsoftwarefoundation.python.3.10_qbz5n2kfra8p0\localcache\local-packages\python310\site-packages")
import pandas
import gzip
import cv2
import matplotlib.pyplot as plt
from PIL import Image
import numpy as np


#Import data
with gzip.open("train.pkl", "rb") as file:
    X = pickle.load(file)


# Plot all samples and boxes
for sample_index in range(len(X)):
    sample = X[sample_index]
    
    #Raw image
    video = sample['video']
    labels = sample['label']
    video_length = video.shape[2]

    label_indices = sample['frames']

    # Save the whole video as multiple images
    for frame_index in range(video_length):

        if frame_index in label_indices:
            # Save image
            image = video[:,:,frame_index]
            img = Image.fromarray(image)
            img.save(f"dataset/JPEGImages/{sample_index:07d}_{frame_index:07d}.jpg")
        
            # Save label
            label_r = labels[:,:,frame_index].astype(np.uint8)*255
            label_b = np.zeros(label_r.shape).astype(np.uint8)
            label_g = np.zeros(label_r.shape).astype(np.uint8)
            label = cv2.merge((label_r, label_g, label_b))
            

            img = Image.fromarray(label)
            img.save(f"dataset/Annotations/{sample_index:07d}_{frame_index:07d}.jpg")
            

    # Save the raw image as a jpg image
    #print(labeled_frame.shape)
 

    #plt.imshow(labeled_frame, cmap="gray")
    #plt.imshow(label_maxed, alpha =0.5)
    #plt.show()




