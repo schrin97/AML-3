{
 "cells": [
  {
   "cell_type": "markdown",
   "metadata": {},
   "source": [
    "# Task 3: Helper notebook for loading the data and saving the predictions"
   ]
  },
  {
   "cell_type": "code",
   "execution_count": 1,
   "metadata": {},
   "outputs": [],
   "source": [
    "import pickle\n",
    "import gzip\n",
    "import numpy as np\n",
    "import os"
   ]
  },
  {
   "cell_type": "markdown",
   "metadata": {},
   "source": [
    "### Helper functions"
   ]
  },
  {
   "cell_type": "code",
   "execution_count": 2,
   "metadata": {},
   "outputs": [],
   "source": [
    "def load_zipped_pickle(filename):\n",
    "    with gzip.open(filename, 'rb') as f:\n",
    "        loaded_object = pickle.load(f)\n",
    "        return loaded_object"
   ]
  },
  {
   "cell_type": "code",
   "execution_count": 3,
   "metadata": {},
   "outputs": [],
   "source": [
    "def save_zipped_pickle(obj, filename):\n",
    "    with gzip.open(filename, 'wb') as f:\n",
    "        pickle.dump(obj, f, 2)"
   ]
  },
  {
   "cell_type": "markdown",
   "metadata": {},
   "source": [
    "### Load data, make predictions and save prediction in correct format"
   ]
  },
  {
   "cell_type": "code",
   "execution_count": 4,
   "metadata": {},
   "outputs": [],
   "source": [
    "# load data\n",
    "train_data = load_zipped_pickle(\"train.pkl\")\n",
    "test_data = load_zipped_pickle(\"test.pkl\")\n",
    "samples = load_zipped_pickle(\"sample.pkl\")"
   ]
  },
  {
   "cell_type": "code",
   "execution_count": 2,
   "metadata": {},
   "outputs": [
    {
     "name": "stderr",
     "output_type": "stream",
     "text": [
      "2023-12-18 12:43:40.010089: E tensorflow/compiler/xla/stream_executor/cuda/cuda_dnn.cc:9342] Unable to register cuDNN factory: Attempting to register factory for plugin cuDNN when one has already been registered\n",
      "2023-12-18 12:43:40.010373: E tensorflow/compiler/xla/stream_executor/cuda/cuda_fft.cc:609] Unable to register cuFFT factory: Attempting to register factory for plugin cuFFT when one has already been registered\n",
      "2023-12-18 12:43:40.019314: E tensorflow/compiler/xla/stream_executor/cuda/cuda_blas.cc:1518] Unable to register cuBLAS factory: Attempting to register factory for plugin cuBLAS when one has already been registered\n",
      "2023-12-18 12:43:40.529163: I tensorflow/core/platform/cpu_feature_guard.cc:182] This TensorFlow binary is optimized to use available CPU instructions in performance-critical operations.\n",
      "To enable the following instructions: AVX2 FMA, in other operations, rebuild TensorFlow with the appropriate compiler flags.\n"
     ]
    }
   ],
   "source": [
    "import keras \n",
    "import tensorflow as tf\n",
    "\n",
    "\n",
    "# Define your class weights (replace these values with your actual class weights)\n",
    "class_weights = [10.0, 1.0]  # For example, 3 classes with respective weights\n",
    "\n",
    "# Define the custom loss function with weighted sparse categorical cross-entropy\n",
    "@keras.saving.register_keras_serializable()\n",
    "def weighted_sparse_binary_crossentropy(y_true, y_pred):\n",
    "    # Calculate the regular SparseCategoricalCrossentropy loss\n",
    "    scce = tf.keras.losses.BinaryCrossentropy(from_logits=False)\n",
    "    loss = scce(y_true, y_pred)\n",
    "\n",
    "    # Apply class weights to the loss\n",
    "    weights = tf.gather(class_weights, y_true)\n",
    "    weighted_loss = tf.reduce_mean(weights * loss)\n",
    "\n",
    "    return weighted_loss"
   ]
  },
  {
   "cell_type": "code",
   "execution_count": 4,
   "metadata": {},
   "outputs": [],
   "source": [
    "import tensorflow as tf\n",
    "\n",
    "# Load model\n",
    "model = tf.keras.models.load_model(\"models/model2.keras\")"
   ]
  },
  {
   "cell_type": "code",
   "execution_count": null,
   "metadata": {},
   "outputs": [],
   "source": [
    "def get_prediction(height, width, small_image):\n",
    "  #print(small_image.shape)\n",
    "  small_image = small_image.reshape((1,) + small_image.shape)\n",
    "  #print(small_image.shape)\n",
    "  prediction = model.predict(small_image)\n",
    "  #print(f'prediction shape {prediction.shape}')\n",
    "  prediction = prediction[0]\n",
    "  #print(f'prediction shape {prediction.shape}')\n",
    "  prediction = Image.fromarray(prediction[:,:,0])\n",
    "  prediction = prediction.resize((128, 128))\n",
    "  return np.array(prediction, dtype=bool)\n",
    "\n",
    "# make prediction for test\n",
    "predictions = []\n",
    "for d in test_data:\n",
    "    prediction = np.array(np.zeros_like(d['video']), dtype=bool)\n",
    "\n",
    "\n",
    "    video = d['video']\n",
    "    height = video.shape[1]\n",
    "    width = video.shape[2]\n",
    "\n",
    "    # Resize the video so it fits into the model\n",
    "    small_video = np.array([np.array(Image.fromarray(image).resize((128, 128))) for image in video])\n",
    "\n",
    "    small_image = small_video[0].reshape((1,) + small_video[0].shape)\n",
    "\n",
    "    prediction = model.predict(small_video)\n",
    "\n",
    "    prediction = prediction[:,:,:,0]\n",
    "\n",
    "    prediction = [np.array(Image.fromarray(mask).resize((width, height)), dtype=bool) for mask in prediction]\n",
    "\n",
    "\n",
    "    prediction = np.array(prediction, dtype=bool)\n",
    "\n",
    "    print(f\"new predicition shape {prediction.shape} for id {d['name']}\")\n",
    "\n",
    "    print(prediction.shape)\n",
    "    \n",
    "    obj = {\n",
    "        'name': d['name'],\n",
    "        'prediction': prediction\n",
    "        }\n",
    "    \n",
    "    save_zipped_pickle(obj, f\"tmp/{d['name']}.pkl\")\n",
    "\n",
    "    # DATA Strucure\n",
    "    predictions.append(obj)\n"
   ]
  },
  {
   "cell_type": "code",
   "execution_count": null,
   "metadata": {},
   "outputs": [],
   "source": [
    "# save in correct format\n",
    "save_zipped_pickle(predictions, 'my_predictions.pkl')"
   ]
  },
  {
   "cell_type": "code",
   "execution_count": null,
   "metadata": {},
   "outputs": [],
   "source": []
  }
 ],
 "metadata": {
  "kernelspec": {
   "display_name": "Python 3 (ipykernel)",
   "language": "python",
   "name": "python3"
  },
  "language_info": {
   "codemirror_mode": {
    "name": "ipython",
    "version": 3
   },
   "file_extension": ".py",
   "mimetype": "text/x-python",
   "name": "python",
   "nbconvert_exporter": "python",
   "pygments_lexer": "ipython3",
   "version": "3.9.2"
  }
 },
 "nbformat": 4,
 "nbformat_minor": 4
}
